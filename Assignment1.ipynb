{
  "nbformat": 4,
  "nbformat_minor": 0,
  "metadata": {
    "colab": {
      "provenance": [],
      "authorship_tag": "ABX9TyN2mOUazAMGEhdDOqig3VsZ",
      "include_colab_link": true
    },
    "kernelspec": {
      "name": "python3",
      "display_name": "Python 3"
    },
    "language_info": {
      "name": "python"
    }
  },
  "cells": [
    {
      "cell_type": "markdown",
      "metadata": {
        "id": "view-in-github",
        "colab_type": "text"
      },
      "source": [
        "<a href=\"https://colab.research.google.com/github/Vaishnavi3322/Assignment/blob/main/Assignment1.ipynb\" target=\"_parent\"><img src=\"https://colab.research.google.com/assets/colab-badge.svg\" alt=\"Open In Colab\"/></a>"
      ]
    },
    {
      "cell_type": "markdown",
      "source": [
        "-------\n",
        "### Python Assignment 1\n",
        "-------"
      ],
      "metadata": {
        "id": "An7o9vIy9mix"
      }
    },
    {
      "cell_type": "markdown",
      "source": [
        "##### Q.1 L is a list defined as L=[11, 12, 13, 14]."
      ],
      "metadata": {
        "id": "qYL99wju95ao"
      }
    },
    {
      "cell_type": "code",
      "source": [
        "L = [11, 12, 13, 14]"
      ],
      "metadata": {
        "id": "GUzB8Ngu-0ZK"
      },
      "execution_count": 126,
      "outputs": []
    },
    {
      "cell_type": "code",
      "execution_count": 127,
      "metadata": {
        "id": "lkMHGQXf9X-0"
      },
      "outputs": [],
      "source": [
        "# (i) WAP to add 50 and 60 to L.\n",
        "L.append(50)\n",
        "L.append(60)"
      ]
    },
    {
      "cell_type": "code",
      "source": [
        "# (ii) WAP to remove 11 and 13from L.\n",
        "L.remove(11)\n",
        "L.remove(13)"
      ],
      "metadata": {
        "id": "3oCNbJM4ASq7"
      },
      "execution_count": 128,
      "outputs": []
    },
    {
      "cell_type": "code",
      "source": [
        "#(iii) WAP to sort L in ascending order.\n",
        "L.sort()\n",
        "print(L)"
      ],
      "metadata": {
        "colab": {
          "base_uri": "https://localhost:8080/"
        },
        "id": "VUxEkCvYAiLE",
        "outputId": "6f3f933e-73b4-4804-f5e5-e495ca2c465b"
      },
      "execution_count": 129,
      "outputs": [
        {
          "output_type": "stream",
          "name": "stdout",
          "text": [
            "[12, 14, 50, 60]\n"
          ]
        }
      ]
    },
    {
      "cell_type": "code",
      "source": [
        "# (iv) WAP to sort L in descending order.\n",
        "L.sort(reverse=True)\n",
        "print(L)"
      ],
      "metadata": {
        "colab": {
          "base_uri": "https://localhost:8080/"
        },
        "id": "cksIOWLvBGjd",
        "outputId": "3b0aeb87-0ace-4d3f-e42d-fecb81cda5e4"
      },
      "execution_count": 130,
      "outputs": [
        {
          "output_type": "stream",
          "name": "stdout",
          "text": [
            "[60, 50, 14, 12]\n"
          ]
        }
      ]
    },
    {
      "cell_type": "code",
      "source": [
        "# (v) WAP to search for 13 in L.\n",
        "print(\"Is 13 Present --> \",13 in L)"
      ],
      "metadata": {
        "colab": {
          "base_uri": "https://localhost:8080/"
        },
        "id": "2ab1DQ3vBG6c",
        "outputId": "fcc8cf3e-d1c6-4626-b751-f53f050b77be"
      },
      "execution_count": 131,
      "outputs": [
        {
          "output_type": "stream",
          "name": "stdout",
          "text": [
            "Is 13 Present -->  False\n"
          ]
        }
      ]
    },
    {
      "cell_type": "code",
      "source": [
        "# (vi) WAP to count the number of elements present in L.\n",
        "len(L)"
      ],
      "metadata": {
        "colab": {
          "base_uri": "https://localhost:8080/"
        },
        "id": "CcNKvO_fBHLH",
        "outputId": "7b43a0eb-ab86-4edc-fd40-676e2035e17a"
      },
      "execution_count": 132,
      "outputs": [
        {
          "output_type": "execute_result",
          "data": {
            "text/plain": [
              "4"
            ]
          },
          "metadata": {},
          "execution_count": 132
        }
      ]
    },
    {
      "cell_type": "code",
      "source": [
        "# (vii) WAP to sum all the elements in L.\n",
        "print(sum(L))"
      ],
      "metadata": {
        "colab": {
          "base_uri": "https://localhost:8080/"
        },
        "id": "6bJ26IMvBHd4",
        "outputId": "2106882e-ebe9-4df7-8f47-2bce6a724991"
      },
      "execution_count": 133,
      "outputs": [
        {
          "output_type": "stream",
          "name": "stdout",
          "text": [
            "136\n"
          ]
        }
      ]
    },
    {
      "cell_type": "code",
      "source": [
        "# (viii) WAP to sum all ODD numbers in L.\n",
        "# (ix) WAP to sum all EVEN numbers in L.\n",
        "even = 0\n",
        "odd = 0\n",
        "for i in L:\n",
        "  if i%2 == 0:\n",
        "    even = even + i\n",
        "  else:\n",
        "    odd = odd + i\n",
        "\n",
        "print(\"Sum of odd number in list: \", odd)\n",
        "print(\"Sum of even number in list: \", even)"
      ],
      "metadata": {
        "colab": {
          "base_uri": "https://localhost:8080/"
        },
        "id": "iWeW0KHhBHrj",
        "outputId": "e1188f3f-50e3-4e11-b945-bfd8d0bf8d8c"
      },
      "execution_count": 134,
      "outputs": [
        {
          "output_type": "stream",
          "name": "stdout",
          "text": [
            "Sum of odd number in list:  0\n",
            "Sum of even number in list:  136\n"
          ]
        }
      ]
    },
    {
      "cell_type": "code",
      "source": [
        "# (x) WAP to sum all PRIME numbers in L.\n",
        "def IsPrime(n):\n",
        "  if n < 2:\n",
        "    return False\n",
        "  for i in range(2, int(n//2) + 1):\n",
        "    if n%i==0:\n",
        "      return False\n",
        "  return True\n",
        "\n",
        "L = [60, 50, 14, 13, 12, 11]\n",
        "\n",
        "s = 0\n",
        "for num in L:\n",
        "  if IsPrime(num):\n",
        "    print(num)\n",
        "    s += num\n",
        "\n",
        "print(\"Sum is: \",s)"
      ],
      "metadata": {
        "colab": {
          "base_uri": "https://localhost:8080/"
        },
        "id": "_ZGlsml4BIE9",
        "outputId": "916761cc-803e-4b5d-8a9b-50af92dfd29f"
      },
      "execution_count": 135,
      "outputs": [
        {
          "output_type": "stream",
          "name": "stdout",
          "text": [
            "13\n",
            "11\n",
            "Sum is:  24\n"
          ]
        }
      ]
    },
    {
      "cell_type": "code",
      "source": [
        "# (xi) WAP to clear all the elements in L.\n",
        "L.clear()\n",
        "print(L)"
      ],
      "metadata": {
        "colab": {
          "base_uri": "https://localhost:8080/"
        },
        "id": "8UC0UrefEGLE",
        "outputId": "c9872e10-9dee-4626-d41e-1f208a410ce6"
      },
      "execution_count": 136,
      "outputs": [
        {
          "output_type": "stream",
          "name": "stdout",
          "text": [
            "[]\n"
          ]
        }
      ]
    },
    {
      "cell_type": "code",
      "source": [
        "# (xii) WAP to delete L.\n",
        "del(L)"
      ],
      "metadata": {
        "id": "yHXX967hEGH3"
      },
      "execution_count": 137,
      "outputs": []
    },
    {
      "cell_type": "markdown",
      "source": [
        "##### Q2. D is a dictionary defined as D= {1:5.6, 2:7.8, 3:6.6, 4:8.7, 5:7.7}."
      ],
      "metadata": {
        "id": "WFdMRUmSI7Rj"
      }
    },
    {
      "cell_type": "code",
      "source": [
        "D= {1:5.6, 2:7.8, 3:6.6, 4:8.7, 5:7.7}"
      ],
      "metadata": {
        "id": "81Pt8G1MJh_e"
      },
      "execution_count": 138,
      "outputs": []
    },
    {
      "cell_type": "code",
      "source": [
        "# (i) WAP to add new entry in D; key=8 and value is 8.8\n",
        "D[8]= 8.8"
      ],
      "metadata": {
        "id": "tzssQb9iI2q6"
      },
      "execution_count": 139,
      "outputs": []
    },
    {
      "cell_type": "code",
      "source": [
        "# (ii) WAP to remove key=2.\n",
        "del D[2]\n"
      ],
      "metadata": {
        "id": "88yKreRzJL_H"
      },
      "execution_count": 140,
      "outputs": []
    },
    {
      "cell_type": "code",
      "source": [
        "# (iii) WAP to check weather 6 key is present in D.\n",
        "print(\"Is key 6 present in D --> \",6 in D)"
      ],
      "metadata": {
        "colab": {
          "base_uri": "https://localhost:8080/"
        },
        "id": "yfwUMNPaJLz3",
        "outputId": "e9a1fde2-98ce-4f27-b16b-141dbabe2796"
      },
      "execution_count": 141,
      "outputs": [
        {
          "output_type": "stream",
          "name": "stdout",
          "text": [
            "Is key 6 present in D -->  False\n"
          ]
        }
      ]
    },
    {
      "cell_type": "code",
      "source": [
        "# (iv) WAP to count the number of elements present in D.\n",
        "len(D)"
      ],
      "metadata": {
        "colab": {
          "base_uri": "https://localhost:8080/"
        },
        "id": "a5k8GDCEJLnu",
        "outputId": "dde2ede1-db53-4d6a-d9d9-1d23e80e71c6"
      },
      "execution_count": 142,
      "outputs": [
        {
          "output_type": "execute_result",
          "data": {
            "text/plain": [
              "5"
            ]
          },
          "metadata": {},
          "execution_count": 142
        }
      ]
    },
    {
      "cell_type": "code",
      "source": [
        "# (v) WAP to add all the values present D.\n",
        "sum(D)"
      ],
      "metadata": {
        "colab": {
          "base_uri": "https://localhost:8080/"
        },
        "id": "GGtCVuj2JK1c",
        "outputId": "f9f69fa1-9202-471e-85c9-34146621ea56"
      },
      "execution_count": 143,
      "outputs": [
        {
          "output_type": "execute_result",
          "data": {
            "text/plain": [
              "21"
            ]
          },
          "metadata": {},
          "execution_count": 143
        }
      ]
    },
    {
      "cell_type": "code",
      "source": [
        "# (vi) WAP to update the value of 3 to 7.1.\n",
        "D[3] = 7.1"
      ],
      "metadata": {
        "id": "hECuLV8HJXcI"
      },
      "execution_count": 144,
      "outputs": []
    },
    {
      "cell_type": "code",
      "source": [
        "# (vii) WAP to clear the dictionary.\n",
        "D.clear()"
      ],
      "metadata": {
        "id": "sknrj9bAJXTH"
      },
      "execution_count": 145,
      "outputs": []
    },
    {
      "cell_type": "code",
      "source": [
        "print(D)"
      ],
      "metadata": {
        "colab": {
          "base_uri": "https://localhost:8080/"
        },
        "id": "t5Z-Z5CcL1w8",
        "outputId": "a1abd747-7c71-4566-9d96-63daf0d89a57"
      },
      "execution_count": 146,
      "outputs": [
        {
          "output_type": "stream",
          "name": "stdout",
          "text": [
            "{}\n"
          ]
        }
      ]
    },
    {
      "cell_type": "markdown",
      "source": [
        "##### Q3. S1 is a set defined as S1= [10, 20, 30, 40, 50, 60].\n",
        "S2 is a set defined as S2= [40, 50, 60, 70, 80, 90]."
      ],
      "metadata": {
        "id": "MQP9Rlqf9lwe"
      }
    },
    {
      "cell_type": "code",
      "source": [
        "S1= [10, 20, 30, 40, 50, 60]\n",
        "S2= [40, 50, 60, 70, 80, 90]"
      ],
      "metadata": {
        "id": "xlihz8PHMnhF"
      },
      "execution_count": 147,
      "outputs": []
    },
    {
      "cell_type": "code",
      "source": [
        "# (i) WAP to add 55 and 66 in Set S1.\n",
        "S1.append(55)\n",
        "S1.append(66)"
      ],
      "metadata": {
        "id": "i3Y4yH4eMINk"
      },
      "execution_count": 148,
      "outputs": []
    },
    {
      "cell_type": "code",
      "source": [
        "S1"
      ],
      "metadata": {
        "colab": {
          "base_uri": "https://localhost:8080/"
        },
        "id": "aU1_eTwLNUn8",
        "outputId": "44f8957d-7201-4a0e-ce4b-4995b2839b6a"
      },
      "execution_count": 149,
      "outputs": [
        {
          "output_type": "execute_result",
          "data": {
            "text/plain": [
              "[10, 20, 30, 40, 50, 60, 55, 66]"
            ]
          },
          "metadata": {},
          "execution_count": 149
        }
      ]
    },
    {
      "cell_type": "code",
      "source": [
        "# (ii) WAP to remove 10 and 30 from Set S1.\n",
        "S1.remove(10)\n",
        "S1.remove(30)"
      ],
      "metadata": {
        "id": "9izJJTuGMIGa"
      },
      "execution_count": 150,
      "outputs": []
    },
    {
      "cell_type": "code",
      "source": [
        "S1"
      ],
      "metadata": {
        "colab": {
          "base_uri": "https://localhost:8080/"
        },
        "id": "uD2eSKCtNhoT",
        "outputId": "a3f7136a-ff0d-4895-a0c0-0fd606b520c9"
      },
      "execution_count": 151,
      "outputs": [
        {
          "output_type": "execute_result",
          "data": {
            "text/plain": [
              "[20, 40, 50, 60, 55, 66]"
            ]
          },
          "metadata": {},
          "execution_count": 151
        }
      ]
    },
    {
      "cell_type": "code",
      "source": [
        "# (iii) WAP to check whether 40 is present in S1.\n",
        "print(\"Is 40 present in S1: \", 40 in S1)"
      ],
      "metadata": {
        "colab": {
          "base_uri": "https://localhost:8080/"
        },
        "id": "_GI0eyHgMH9p",
        "outputId": "0e4a5b3a-1f27-4165-b210-8a404e63e2b9"
      },
      "execution_count": 152,
      "outputs": [
        {
          "output_type": "stream",
          "name": "stdout",
          "text": [
            "Is 40 present in S1:  True\n"
          ]
        }
      ]
    },
    {
      "cell_type": "code",
      "source": [
        "# (iv) WAP to find the union between S1 and S2.\n",
        "set1 = set(S1)\n",
        "set2 = set(S2)\n",
        "newList = list(set1.union(set2))\n",
        "print(\"Union of the lists is:\", newList)"
      ],
      "metadata": {
        "colab": {
          "base_uri": "https://localhost:8080/"
        },
        "id": "WDMLV1KEMH13",
        "outputId": "e2130ed9-2514-4284-d339-11e29eb0c845"
      },
      "execution_count": 153,
      "outputs": [
        {
          "output_type": "stream",
          "name": "stdout",
          "text": [
            "Union of the lists is: [66, 70, 40, 80, 50, 20, 55, 90, 60]\n"
          ]
        }
      ]
    },
    {
      "cell_type": "code",
      "source": [
        "# (v) WAP to find the intersection between S1 and S2.\n",
        "def intersection(lst1, lst2):\n",
        "    return list(set(lst1) & set(lst2))\n",
        "\n",
        "print(intersection(S1, S2))"
      ],
      "metadata": {
        "colab": {
          "base_uri": "https://localhost:8080/"
        },
        "id": "Z_3J6odEMHyj",
        "outputId": "f04c8ae8-151f-4612-f5c5-fd28d91346f6"
      },
      "execution_count": 154,
      "outputs": [
        {
          "output_type": "stream",
          "name": "stdout",
          "text": [
            "[40, 50, 60]\n"
          ]
        }
      ]
    },
    {
      "cell_type": "code",
      "source": [
        "# (vi) WAP to find the S1 - S2.\n",
        "import numpy as np\n",
        "subtracted_array = np.subtract(S1, S2)\n",
        "subtracted = list(subtracted_array)\n",
        "\n",
        "print(subtracted)"
      ],
      "metadata": {
        "colab": {
          "base_uri": "https://localhost:8080/"
        },
        "id": "FRkU2WDPMHxj",
        "outputId": "e2eebaf8-0f08-4885-ef9a-d150296b2d3a"
      },
      "execution_count": 155,
      "outputs": [
        {
          "output_type": "stream",
          "name": "stdout",
          "text": [
            "[-20, -10, -10, -10, -25, -24]\n"
          ]
        }
      ]
    },
    {
      "cell_type": "markdown",
      "source": [
        "##### Q4. Write the following program."
      ],
      "metadata": {
        "id": "e7VNRlQsiExh"
      }
    },
    {
      "cell_type": "code",
      "source": [
        "# (i) WAP to print 100 random strings whose length between 6 and 8.\n",
        "import string as s\n",
        "import random as r\n",
        "print(\"String + Digits --> \", s.ascii_letters + s.ascii_uppercase + s.ascii_lowercase + s.digits)\n",
        "\n",
        "Rand = r.sample(s.ascii_letters + s.ascii_uppercase + s.ascii_lowercase + s.digits, 100)\n",
        "print(\"\\nSelected Str1 --> \", Rand)\n",
        "Rand=\"\".join(Rand)\n",
        "print(\"Rand --> \",Rand)\n",
        "len(Rand)"
      ],
      "metadata": {
        "colab": {
          "base_uri": "https://localhost:8080/"
        },
        "id": "0jVTL03aMHrO",
        "outputId": "ec3e10ee-d6e9-4ef0-c76b-11ee31625993"
      },
      "execution_count": 156,
      "outputs": [
        {
          "output_type": "stream",
          "name": "stdout",
          "text": [
            "String + Digits -->  abcdefghijklmnopqrstuvwxyzABCDEFGHIJKLMNOPQRSTUVWXYZABCDEFGHIJKLMNOPQRSTUVWXYZabcdefghijklmnopqrstuvwxyz0123456789\n",
            "\n",
            "Selected Str1 -->  ['n', 'y', 'x', 'H', 'P', 'd', 'c', '3', 'G', 'h', 'F', 'A', '1', 'v', 't', 'j', 'b', 'C', 'p', 'T', 'K', 'y', 'N', '8', 'r', 'S', 'E', 'F', 'h', 'l', 'e', '0', 'Z', 'E', 'o', 'd', 'f', 't', 's', 'i', 'P', 'q', 'Y', 'X', 'U', 'O', 'D', 'm', 'k', 'L', 'O', 'f', 'N', 'j', 'B', 'V', 'm', 'k', 'S', 'Q', 'Z', 'V', 'u', 'I', 'e', 'c', 'B', 'X', 'D', 'v', '7', 'H', 'T', 'M', 'I', 'A', 'R', '2', 'u', 'W', 'b', 'J', 'l', 'C', 'a', 'i', 'z', 'M', 'a', 'L', 'Q', 'W', 'q', 'w', 'g', 'g', 'G', 'o', '9', 'U']\n",
            "Rand -->  nyxHPdc3GhFA1vtjbCpTKyN8rSEFhle0ZEodftsiPqYXUODmkLOfNjBVmkSQZVuIecBXDv7HTMIAR2uWbJlCaizMaLQWqwggGo9U\n"
          ]
        },
        {
          "output_type": "execute_result",
          "data": {
            "text/plain": [
              "100"
            ]
          },
          "metadata": {},
          "execution_count": 156
        }
      ]
    },
    {
      "cell_type": "code",
      "source": [
        "# (ii) WAP to print all prime numbers between 600 and 800.\n",
        "def IsPrime(n):\n",
        "  if n < 2:\n",
        "    return False\n",
        "  for i in range(2, int(n//2) + 1):\n",
        "    if n%i==0:\n",
        "      return False\n",
        "  return True\n",
        "\n",
        "s = 0\n",
        "for num in range(600, 801):\n",
        "  if IsPrime(num):\n",
        "    print(num)\n",
        "    s += num\n",
        "\n",
        "print(\"Sum is: \",s) "
      ],
      "metadata": {
        "id": "R-jBfOYuMHqD",
        "colab": {
          "base_uri": "https://localhost:8080/"
        },
        "outputId": "309cae8c-1805-4d9b-dee9-319327d4bf9c"
      },
      "execution_count": 157,
      "outputs": [
        {
          "output_type": "stream",
          "name": "stdout",
          "text": [
            "601\n",
            "607\n",
            "613\n",
            "617\n",
            "619\n",
            "631\n",
            "641\n",
            "643\n",
            "647\n",
            "653\n",
            "659\n",
            "661\n",
            "673\n",
            "677\n",
            "683\n",
            "691\n",
            "701\n",
            "709\n",
            "719\n",
            "727\n",
            "733\n",
            "739\n",
            "743\n",
            "751\n",
            "757\n",
            "761\n",
            "769\n",
            "773\n",
            "787\n",
            "797\n",
            "Sum is:  20782\n"
          ]
        }
      ]
    },
    {
      "cell_type": "code",
      "source": [
        "# (iii) WAP to print all numbers between 100 and 1000 that are divisible by 7 and 9.\n",
        "def IsDivisible(n):\n",
        "  if n%7 == 0 and n%9 == 0:\n",
        "    return n\n",
        "\n",
        "for p in range(100,1001):\n",
        "  if IsDivisible(p):\n",
        "    print(p)"
      ],
      "metadata": {
        "id": "ENPtXoszMHiu",
        "colab": {
          "base_uri": "https://localhost:8080/"
        },
        "outputId": "dc97f7d7-e24d-4640-e9de-c53afa5172ef"
      },
      "execution_count": 158,
      "outputs": [
        {
          "output_type": "stream",
          "name": "stdout",
          "text": [
            "126\n",
            "189\n",
            "252\n",
            "315\n",
            "378\n",
            "441\n",
            "504\n",
            "567\n",
            "630\n",
            "693\n",
            "756\n",
            "819\n",
            "882\n",
            "945\n"
          ]
        }
      ]
    },
    {
      "cell_type": "code",
      "source": [
        "for i in range(100, 1001):\n",
        "  if i%7 == 0 and i%9 == 0:\n",
        "    print(i)"
      ],
      "metadata": {
        "colab": {
          "base_uri": "https://localhost:8080/"
        },
        "id": "l_VjPYOiXK_k",
        "outputId": "0e331007-e1b2-42d8-cf68-50fee2a6d352"
      },
      "execution_count": 159,
      "outputs": [
        {
          "output_type": "stream",
          "name": "stdout",
          "text": [
            "126\n",
            "189\n",
            "252\n",
            "315\n",
            "378\n",
            "441\n",
            "504\n",
            "567\n",
            "630\n",
            "693\n",
            "756\n",
            "819\n",
            "882\n",
            "945\n"
          ]
        }
      ]
    },
    {
      "cell_type": "markdown",
      "source": [
        "##### Q5. WAP to create two lists of 10 random numbers between 10 and 30; Find"
      ],
      "metadata": {
        "id": "9ZXEaj2qkZSG"
      }
    },
    {
      "cell_type": "code",
      "source": [
        "import string as s\n",
        "import random as r\n",
        "print(\"Digits --> \", s.digits)"
      ],
      "metadata": {
        "colab": {
          "base_uri": "https://localhost:8080/"
        },
        "id": "qSAoGSexXpiF",
        "outputId": "59752f38-82d3-4259-cc8a-a1dbd65c7359"
      },
      "execution_count": 160,
      "outputs": [
        {
          "output_type": "stream",
          "name": "stdout",
          "text": [
            "Digits -->  0123456789\n"
          ]
        }
      ]
    },
    {
      "cell_type": "code",
      "source": [
        "l1 = []\n",
        "n=10\n",
        "for i in range(n):\n",
        "  l1.append(r.randint(10,31))\n",
        "print(l1)"
      ],
      "metadata": {
        "colab": {
          "base_uri": "https://localhost:8080/"
        },
        "id": "wkD1hhzhYGaC",
        "outputId": "a36afd2c-e3b5-44ef-d805-53a106bb40db"
      },
      "execution_count": 161,
      "outputs": [
        {
          "output_type": "stream",
          "name": "stdout",
          "text": [
            "[20, 23, 27, 15, 21, 23, 28, 13, 29, 16]\n"
          ]
        }
      ]
    },
    {
      "cell_type": "code",
      "source": [
        "l2 = []\n",
        "n=10\n",
        "for i in range(n):\n",
        "  l2.append(r.randint(10,31))\n",
        "print(l2)"
      ],
      "metadata": {
        "colab": {
          "base_uri": "https://localhost:8080/"
        },
        "id": "4ZkmWmZPbiGw",
        "outputId": "0b4d6535-534c-40ac-af5c-27aac62874dd"
      },
      "execution_count": 162,
      "outputs": [
        {
          "output_type": "stream",
          "name": "stdout",
          "text": [
            "[23, 29, 28, 18, 26, 15, 16, 30, 31, 24]\n"
          ]
        }
      ]
    },
    {
      "cell_type": "code",
      "source": [
        "# (i) Common numbers in the two lists\n",
        "def common_num(a,b):\n",
        "  a = set(a)\n",
        "  b = set(b)\n",
        "\n",
        "  if len(a.intersection(b)) != 0:\n",
        "    return(a.intersection(b))\n",
        "  else:\n",
        "    return(\"None\")\n",
        "\n",
        "common_num(l1,l2)\n",
        "\n",
        "#def common(l1, l2):\n",
        "#    lst3 = [value for value in l1 if value in l2]\n",
        "#    return lst3\n",
        "#print(common(l1, l2))"
      ],
      "metadata": {
        "id": "bQYm7hTHMHa0",
        "colab": {
          "base_uri": "https://localhost:8080/"
        },
        "outputId": "1e7d94a4-59f1-4bcf-a87f-bac7d27c9a1e"
      },
      "execution_count": 163,
      "outputs": [
        {
          "output_type": "execute_result",
          "data": {
            "text/plain": [
              "{15, 16, 23, 28, 29}"
            ]
          },
          "metadata": {},
          "execution_count": 163
        }
      ]
    },
    {
      "cell_type": "code",
      "source": [
        "# (ii) Unique numbers in both the list\n",
        "l1\n",
        "l2 \n",
        "result = list(l1)\n",
        "result.extend(y for y in l2 if y not in result)\n",
        "print(result)"
      ],
      "metadata": {
        "id": "IOChPUVtke4C",
        "colab": {
          "base_uri": "https://localhost:8080/"
        },
        "outputId": "e37302af-108a-40d2-aaaf-ac3009820b60"
      },
      "execution_count": 164,
      "outputs": [
        {
          "output_type": "stream",
          "name": "stdout",
          "text": [
            "[20, 23, 27, 15, 21, 23, 28, 13, 29, 16, 18, 26, 30, 31, 24]\n"
          ]
        }
      ]
    },
    {
      "cell_type": "code",
      "source": [
        "# (iii) Minimum in both the list\n",
        "a = min(l1) \n",
        "b = min(l2)\n",
        "print([a,b])"
      ],
      "metadata": {
        "colab": {
          "base_uri": "https://localhost:8080/"
        },
        "id": "Vm2OXu3UkEP9",
        "outputId": "b10797af-50aa-476b-a9a4-5aea24bc954d"
      },
      "execution_count": 165,
      "outputs": [
        {
          "output_type": "stream",
          "name": "stdout",
          "text": [
            "[13, 15]\n"
          ]
        }
      ]
    },
    {
      "cell_type": "code",
      "source": [
        "# (iv) Maximum in both the list\n",
        "c = max(l1)\n",
        "d = max(l2)\n",
        "print([c,d])"
      ],
      "metadata": {
        "id": "DZecdpgWkeyi",
        "colab": {
          "base_uri": "https://localhost:8080/"
        },
        "outputId": "6b7e8364-f768-417b-a3b2-ae2a0d4ca085"
      },
      "execution_count": 166,
      "outputs": [
        {
          "output_type": "stream",
          "name": "stdout",
          "text": [
            "[29, 31]\n"
          ]
        }
      ]
    },
    {
      "cell_type": "code",
      "source": [
        "# (v) Sum of both the lists\n",
        "S = [l1[x] + l2[x] for x in range (len(l1))]\n",
        "print(\"Sum of two lists is: \",str(S))"
      ],
      "metadata": {
        "id": "lyJainwKkesd",
        "colab": {
          "base_uri": "https://localhost:8080/"
        },
        "outputId": "43052acb-7bac-4b7e-c412-7d226de17167"
      },
      "execution_count": 167,
      "outputs": [
        {
          "output_type": "stream",
          "name": "stdout",
          "text": [
            "Sum of two lists is:  [43, 52, 55, 33, 47, 38, 44, 43, 60, 40]\n"
          ]
        }
      ]
    },
    {
      "cell_type": "markdown",
      "source": [
        "##### Q6. WAP to create a list of 100 random numbers between 100 and 900. Count and print the: "
      ],
      "metadata": {
        "id": "t7KizL3Sk_zo"
      }
    },
    {
      "cell_type": "code",
      "source": [
        "# (i) All odd numbers\n",
        "import random as r\n",
        "R =[]\n",
        "n=100\n",
        "for i in range(n):\n",
        "  R.append(r.randint(100,901))\n",
        "print(\"Length of list R: \", len(R))\n",
        "print(R)"
      ],
      "metadata": {
        "id": "BjtEWwGjkeqs",
        "colab": {
          "base_uri": "https://localhost:8080/"
        },
        "outputId": "9583002a-5cf5-4d76-a067-c1f016dedc18"
      },
      "execution_count": 168,
      "outputs": [
        {
          "output_type": "stream",
          "name": "stdout",
          "text": [
            "Length of list R:  100\n",
            "[550, 662, 823, 565, 845, 389, 428, 233, 679, 359, 719, 211, 244, 623, 248, 304, 457, 431, 490, 509, 497, 714, 219, 266, 498, 587, 361, 656, 505, 244, 386, 120, 609, 444, 330, 433, 715, 136, 524, 193, 557, 645, 651, 222, 289, 498, 555, 430, 598, 849, 522, 644, 600, 326, 661, 307, 703, 788, 428, 432, 684, 373, 239, 143, 219, 733, 324, 803, 177, 412, 398, 420, 770, 854, 247, 431, 452, 389, 704, 277, 781, 808, 643, 740, 744, 901, 346, 472, 214, 449, 579, 317, 692, 829, 251, 504, 489, 202, 402, 291]\n"
          ]
        }
      ]
    },
    {
      "cell_type": "code",
      "source": [
        "# (ii) All even numbers\n",
        "even = []\n",
        "for n in R:\n",
        "  if n%2 == 0:\n",
        "    even.append(n)\n",
        "print(\"Count of all even numbers in list R:\",len(even))\n",
        "print(even)"
      ],
      "metadata": {
        "id": "90ht_0kJkepE",
        "colab": {
          "base_uri": "https://localhost:8080/"
        },
        "outputId": "10f64557-1eee-4cfc-99ac-9dea35ea90eb"
      },
      "execution_count": 169,
      "outputs": [
        {
          "output_type": "stream",
          "name": "stdout",
          "text": [
            "Count of all even numbers in list R: 48\n",
            "[550, 662, 428, 244, 248, 304, 490, 714, 266, 498, 656, 244, 386, 120, 444, 330, 136, 524, 222, 498, 430, 598, 522, 644, 600, 326, 788, 428, 432, 684, 324, 412, 398, 420, 770, 854, 452, 704, 808, 740, 744, 346, 472, 214, 692, 504, 202, 402]\n"
          ]
        }
      ]
    },
    {
      "cell_type": "code",
      "source": [
        "# (iii) All prime numbers\n",
        "prime = []\n",
        "def IsPrime(n):\n",
        "  if n < 2:\n",
        "    return False\n",
        "  for i in range(2, int(n//2) + 1):\n",
        "    if n%i==0:\n",
        "      return False\n",
        "  return True\n",
        "\n",
        "for n in R:\n",
        "  if IsPrime(n):\n",
        "    prime.append(n)\n",
        "print(\"Count of all prime numbers in list R:\",len(prime))\n",
        "print(prime)"
      ],
      "metadata": {
        "id": "WBjnHYwVkenE",
        "colab": {
          "base_uri": "https://localhost:8080/"
        },
        "outputId": "23241b58-99d6-4092-b276-95ec6b77f797"
      },
      "execution_count": 170,
      "outputs": [
        {
          "output_type": "stream",
          "name": "stdout",
          "text": [
            "Count of all prime numbers in list R: 26\n",
            "[823, 389, 233, 359, 719, 211, 457, 431, 509, 587, 433, 193, 557, 661, 307, 373, 239, 733, 431, 389, 277, 643, 449, 317, 829, 251]\n"
          ]
        }
      ]
    },
    {
      "cell_type": "markdown",
      "source": [
        "##### Q7. D is a dictionary defined as D={1:\"One\",2:\"Two\",3:\"Three\",4:\"Four\", 5:\"Five\"}.\n",
        " WAP to read all the keys and values from dictionary and write to the file in the given below format.\n",
        "Key1, Value1\n",
        "Key2, Value2\n",
        "Key3, Value3"
      ],
      "metadata": {
        "id": "7EZKsjm9lru2"
      }
    },
    {
      "cell_type": "code",
      "source": [
        "D={1:\"One\",2:\"Two\",3:\"Three\",4:\"Four\", 5:\"Five\"}"
      ],
      "metadata": {
        "id": "tjCkdkZrkely"
      },
      "execution_count": 171,
      "outputs": []
    },
    {
      "cell_type": "code",
      "source": [
        "with open(\"output.txt\", \"w\") as file:\n",
        "  for key, value in D.items():\n",
        "    file.write(f\"Key{key}, Value{value} \")"
      ],
      "metadata": {
        "id": "LZUyT6Qsqrf7"
      },
      "execution_count": 172,
      "outputs": []
    },
    {
      "cell_type": "markdown",
      "source": [
        "##### Q8. L is a list defined as L={\"One\",\"Two\",\"Three\",\"Four\",\"Five\"}.\n",
        " WAP to count the length of reach element from a list and write to the file in the given below format:\n",
        "One, 3\n",
        "Two, 3\n",
        "Four, 4\n"
      ],
      "metadata": {
        "id": "MrS4hS46lxdS"
      }
    },
    {
      "cell_type": "code",
      "source": [
        "L={\"One\",\"Two\",\"Three\",\"Four\",\"Five\"}\n",
        "len(L)\n",
        "with open(\"L.txt\", \"w\") as file:\n",
        "  for element in L:\n",
        "    length = len(element)\n",
        "    file.write(f\"{element}, {length} \")"
      ],
      "metadata": {
        "id": "CeBEqzjckei5"
      },
      "execution_count": 173,
      "outputs": []
    },
    {
      "cell_type": "markdown",
      "source": [
        "##### Q9. Write to the file 100 random strings whose length between 10 and 15.\n"
      ],
      "metadata": {
        "id": "tm7wVfuDl1fJ"
      }
    },
    {
      "cell_type": "code",
      "source": [
        "import random as r\n",
        "import string\n",
        "\n",
        "def random_string(length):\n",
        "  letters = string.ascii_letters\n",
        "  return ''.join(r.choice(letters) for i in range(length))\n",
        "\n",
        "random_string = [random_string(r.randint(10,15)) for i in range(100)]\n",
        "with open(\"Random.txt\",\"w\") as file:\n",
        "  for string in random_string:\n",
        "    file.write(string + \"\\n\")"
      ],
      "metadata": {
        "id": "Y28jNQLtkegc"
      },
      "execution_count": 174,
      "outputs": []
    },
    {
      "cell_type": "markdown",
      "source": [
        "##### Q10. Write to the file all prime numbers between 600 and 800.\n"
      ],
      "metadata": {
        "id": "9eogKAjul5gi"
      }
    },
    {
      "cell_type": "code",
      "source": [
        "def IsPrime(n):\n",
        "  if n < 2:\n",
        "    return False\n",
        "  for i in range(2, int(n//2) + 1):\n",
        "    if n%i==0:\n",
        "      return False\n",
        "  return True\n",
        "\n",
        "with open(\"Prime.txt\",\"w\") as file:\n",
        "  for n in range(600,801):\n",
        "    if IsPrime(n):\n",
        "      file.write(str(n) + \"\\n\")"
      ],
      "metadata": {
        "id": "Lxq7AoFPkebU"
      },
      "execution_count": 175,
      "outputs": []
    },
    {
      "cell_type": "markdown",
      "source": [
        "##### Q11. WAP to calculate the time taken by a program."
      ],
      "metadata": {
        "id": "QamZcZzBl-Cs"
      }
    },
    {
      "cell_type": "code",
      "source": [
        "import time\n",
        "# Start time\n",
        "start_time = time.time()\n",
        "\n",
        "def IsPrime(n):\n",
        "  if n < 2:\n",
        "    return False\n",
        "  for i in range(2, int(n//2) + 1):\n",
        "    if n%i==0:\n",
        "      return False\n",
        "  return True\n",
        "\n",
        "with open(\"Prime.txt\",\"w\") as file:\n",
        "  for n in range(600,801):\n",
        "    if IsPrime(n):\n",
        "      file.write(str(n) + \"\\n\")\n",
        "\n",
        "# End time\n",
        "end_time = time.time()\n",
        "\n",
        "# Calculate the elapsed time\n",
        "elapsed_time = end_time - start_time\n",
        "\n",
        "# Print the elapsed time\n",
        "print(f\"Time taken: {elapsed_time} seconds\")\n"
      ],
      "metadata": {
        "id": "DE7RH6CgmCPg",
        "colab": {
          "base_uri": "https://localhost:8080/"
        },
        "outputId": "66e8edfe-122d-4756-85ac-74a20d11ad0c"
      },
      "execution_count": 176,
      "outputs": [
        {
          "output_type": "stream",
          "name": "stdout",
          "text": [
            "Time taken: 0.005223751068115234 seconds\n"
          ]
        }
      ]
    },
    {
      "cell_type": "markdown",
      "source": [
        "##### Q12. WAP to sort following number of elements in a list, calculate time taken and plot the graph.\n",
        "Number of elements in list  Time Taken\n",
        "5k                              T1\n",
        "10k                             T2\n",
        "15k                             T3\n",
        "20k                             T4\n",
        "25k                             T5\n"
      ],
      "metadata": {
        "id": "Evbx69e9mGLY"
      }
    },
    {
      "cell_type": "code",
      "source": [
        "import time\n",
        "import matplotlib.pyplot as plt\n",
        "\n",
        "def sort_list(lst):\n",
        "    start_time = time.time()\n",
        "    sorted_lst = sorted(lst)\n",
        "    end_time = time.time()\n",
        "    elapsed_time = end_time - start_time\n",
        "    return elapsed_time\n",
        "\n",
        "# Define the list sizes\n",
        "No_of_elements = [5000, 10000, 15000, 20000, 25000]\n",
        "\n",
        "# Initialize lists to store the sizes and corresponding times\n",
        "sizes = []\n",
        "times = []\n",
        "\n",
        "# Sort each list size and record the time taken\n",
        "for size in list_sizes:\n",
        "    lst = list(range(size))\n",
        "    elapsed_time = sort_list(lst)\n",
        "    sizes.append(size)\n",
        "    times.append(elapsed_time)\n",
        "\n",
        "# Plot the graph\n",
        "plt.plot(sizes, times)\n",
        "plt.xlabel('Number of Elements')\n",
        "plt.ylabel('Time Taken (seconds)')\n",
        "plt.title('Sorting Time vs. Number of Elements')\n",
        "plt.show()"
      ],
      "metadata": {
        "id": "MoO5lp6qniqp",
        "colab": {
          "base_uri": "https://localhost:8080/",
          "height": 472
        },
        "outputId": "ad600771-8b3c-4c88-9b0d-f6fb710c3e1b"
      },
      "execution_count": 177,
      "outputs": [
        {
          "output_type": "display_data",
          "data": {
            "text/plain": [
              "<Figure size 640x480 with 1 Axes>"
            ],
            "image/png": "[encoded data removed]"
          },
          "metadata": {}
        }
      ]
    },
    {
      "cell_type": "markdown",
      "source": [
        "##### Q13. WAP to create a dictionary of student marks in five subjects and you have to find the student having maximum and minimum average marks."
      ],
      "metadata": {
        "id": "YQITGpI9nlPv"
      }
    },
    {
      "cell_type": "code",
      "source": [
        "student_marks = {\n",
        "    \"A\": [85, 92, 78, 90, 88],\n",
        "    \"B\": [79, 68, 92, 87, 75],\n",
        "    \"C\": [92, 88, 79, 76, 90],\n",
        "    \"D\": [76, 92, 82, 88, 90],\n",
        "    \"E\": [88, 82, 90, 85, 92]}\n",
        "\n",
        "def find_max_min_average_marks(students):\n",
        "    max_average = float('-inf')\n",
        "    min_average = float('inf')\n",
        "    max_student = \"\"\n",
        "    min_student = \"\"\n",
        "    \n",
        "    for student, marks in students.items():\n",
        "        average = sum(marks) / len(marks)\n",
        "        \n",
        "        if average > max_average:\n",
        "            max_average = average\n",
        "            max_student = student\n",
        "        \n",
        "        if average < min_average:\n",
        "            min_average = average\n",
        "            min_student = student\n",
        "    \n",
        "    return max_student, max_average, min_student, min_average\n",
        "\n",
        "# Find student with maximum and minimum average marks\n",
        "max_student, max_average, min_student, min_average = find_max_min_average_marks(student_marks)\n",
        "\n",
        "# Print the results\n",
        "print(\"Student with Maximum Average Marks:\")\n",
        "print(\"Student:\", max_student)\n",
        "print(\"Average Marks:\", max_average)\n",
        "\n",
        "print(\"\\nStudent with Minimum Average Marks:\")\n",
        "print(\"Student:\", min_student)\n",
        "print(\"Average Marks:\", min_average)"
      ],
      "metadata": {
        "id": "BW6xTQHFnq8g",
        "colab": {
          "base_uri": "https://localhost:8080/"
        },
        "outputId": "7d5e9b13-c647-4103-c6e7-5db72fe4c37e"
      },
      "execution_count": 178,
      "outputs": [
        {
          "output_type": "stream",
          "name": "stdout",
          "text": [
            "Student with Maximum Average Marks:\n",
            "Student: E\n",
            "Average Marks: 87.4\n",
            "\n",
            "Student with Minimum Average Marks:\n",
            "Student: B\n",
            "Average Marks: 80.2\n"
          ]
        }
      ]
    },
    {
      "cell_type": "markdown",
      "source": [
        "------\n",
        "### Assignment 2\n",
        "###Challenge Question\n",
        "------"
      ],
      "metadata": {
        "id": "Y0K_IRL84PKB"
      }
    },
    {
      "cell_type": "markdown",
      "source": [
        "##### 1. Write a python program to sort the list of heterogeneous data. \n",
        "e.g. \n",
        "L = [\"Ram\", 1, \"Shyam\", 2, \"Aman\", 3]\n",
        "print(L)\n",
        "L.sort()\n",
        "print(L)\n",
        "#####Above code gives error. Correct it"
      ],
      "metadata": {
        "id": "4QnM57ON8Ui6"
      }
    },
    {
      "cell_type": "code",
      "source": [
        "L = [\"Ram\", 1, \"Shyam\", 2, \"Aman\", 3]\n",
        "print(L)\n",
        "\n",
        "sorted_L = sorted(L, key=lambda x: str(x))\n",
        "print(sorted_L)"
      ],
      "metadata": {
        "colab": {
          "base_uri": "https://localhost:8080/"
        },
        "id": "Xg1GVljx4Uxq",
        "outputId": "bbb8daf4-a6bf-46b2-f35d-596837b4cc1d"
      },
      "execution_count": 179,
      "outputs": [
        {
          "output_type": "stream",
          "name": "stdout",
          "text": [
            "['Ram', 1, 'Shyam', 2, 'Aman', 3]\n",
            "[1, 2, 3, 'Aman', 'Ram', 'Shyam']\n"
          ]
        }
      ]
    }
  ]
}