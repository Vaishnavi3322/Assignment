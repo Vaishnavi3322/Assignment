{
  "nbformat": 4,
  "nbformat_minor": 0,
  "metadata": {
    "colab": {
      "provenance": [],
      "authorship_tag": "ABX9TyMesJaUob6UiS6QIrIwr9D6",
      "include_colab_link": true
    },
    "kernelspec": {
      "name": "python3",
      "display_name": "Python 3"
    },
    "language_info": {
      "name": "python"
    }
  },
  "cells": [
    {
      "cell_type": "markdown",
      "metadata": {
        "id": "view-in-github",
        "colab_type": "text"
      },
      "source": [
        "<a href=\"https://colab.research.google.com/github/Vaishnavi3322/Assignment/blob/main/Mini_Projects.ipynb\" target=\"_parent\"><img src=\"https://colab.research.google.com/assets/colab-badge.svg\" alt=\"Open In Colab\"/></a>"
      ]
    },
    {
      "cell_type": "markdown",
      "source": [
        "## Mini Project 1"
      ],
      "metadata": {
        "id": "bJ9QGVP5L93L"
      }
    },
    {
      "cell_type": "markdown",
      "source": [
        "-----\n",
        "### Subset Selection Problem\n",
        "-----\n",
        "####**1. Problem Statement:**\n",
        "Find all the subsets from a set of numbers whose sum is zero.\n",
        "\n",
        "####**Constraint: Subset size must be 5**\n",
        "Set={-12, -3, -6, 7, 2, -2, 6, 3, 9, -7, -5, -8, 1, 11, -9, -4}\n",
        "\n",
        "---"
      ],
      "metadata": {
        "id": "DdHQUk53ERdY"
      }
    },
    {
      "cell_type": "markdown",
      "source": [
        "### **1.1 Library inclusion**"
      ],
      "metadata": {
        "id": "VAYhqZaVEjbo"
      }
    },
    {
      "cell_type": "code",
      "execution_count": 8,
      "metadata": {
        "id": "pTgrTRnSDj7r"
      },
      "outputs": [],
      "source": [
        "import random as r"
      ]
    },
    {
      "cell_type": "markdown",
      "source": [
        "### **1.2 Parameter Setting**"
      ],
      "metadata": {
        "id": "jb2NY1tUMI0z"
      }
    },
    {
      "cell_type": "code",
      "source": [
        "Set         = set([-12, -3, -6, 7, 2, -2, 6, 3, 9, -7, -5, -8, 1, 11, -9, -4])\n",
        "SetSize     = 5\n",
        "ResultList  = set()    # Store Result List i.e. list of sets whose sum is zero\n",
        "Iterations  = 1000    # Number of Inerations"
      ],
      "metadata": {
        "id": "mXIbyBT6MOM2"
      },
      "execution_count": 9,
      "outputs": []
    },
    {
      "cell_type": "markdown",
      "metadata": {
        "id": "BTLd3s--im1c"
      },
      "source": [
        "### **1.3 Start Program**\n",
        "\n",
        "\n"
      ]
    },
    {
      "cell_type": "code",
      "metadata": {
        "id": "veBU-f21im1x",
        "colab": {
          "base_uri": "https://localhost:8080/"
        },
        "outputId": "0e058757-f80e-461d-b276-1ac808fb83e2"
      },
      "source": [
        "# Loop till number of Iterations\n",
        "for i in range(Iterations):\n",
        "    # Select number of elements from Set\n",
        "    Chromosome = r.sample(Set,SetSize)\n",
        "    \n",
        "    # Sum the number of elements in the Chromosome\n",
        "    if sum(Chromosome) == 0:\n",
        "        ResultList.add(tuple(Chromosome))"
      ],
      "execution_count": 10,
      "outputs": [
        {
          "output_type": "stream",
          "name": "stderr",
          "text": [
            "<ipython-input-10-03544d6be9f3>:4: DeprecationWarning: Sampling from a set deprecated\n",
            "since Python 3.9 and will be removed in a subsequent version.\n",
            "  Chromosome = r.sample(Set,SetSize)\n"
          ]
        }
      ]
    },
    {
      "cell_type": "markdown",
      "metadata": {
        "id": "nRWYsJNVim1z"
      },
      "source": [
        "### **1.4 Print the sets and total count**\n"
      ]
    },
    {
      "cell_type": "code",
      "metadata": {
        "colab": {
          "base_uri": "https://localhost:8080/"
        },
        "id": "41abL1k-im10",
        "scrolled": true,
        "outputId": "c9e51e52-ad42-4e79-ecf6-c49636938f0d"
      },
      "source": [
        "# Print all the sets whose sum is zero\n",
        "for r in ResultList:\n",
        "\tprint (r)\n",
        "\n",
        "# Print total sets\n",
        "print (\"\\nTotal Sets: \", len(ResultList), \"\\n\")"
      ],
      "execution_count": 11,
      "outputs": [
        {
          "output_type": "stream",
          "name": "stdout",
          "text": [
            "(1, 6, -7, 2, -2)\n",
            "(1, -7, 2, -2, 6)\n",
            "(-7, -3, 1, 3, 6)\n",
            "(-6, 11, -8, -4, 7)\n",
            "(-7, 11, -8, 3, 1)\n",
            "(1, -2, 7, -12, 6)\n",
            "(1, 6, -6, -8, 7)\n",
            "(-9, 9, -5, 2, 3)\n",
            "(7, -8, -3, -2, 6)\n",
            "(3, 6, -2, -9, 2)\n",
            "(-5, -9, 6, -3, 11)\n",
            "(-9, -5, 11, -3, 6)\n",
            "(1, -12, 11, -2, 2)\n",
            "(1, 7, -12, -5, 9)\n",
            "(-2, -3, 11, -8, 2)\n",
            "(11, -6, -9, -5, 9)\n",
            "(6, 7, -2, -7, -4)\n",
            "(7, 3, -7, 6, -9)\n",
            "(3, -8, -12, 11, 6)\n",
            "(-2, 7, -3, -5, 3)\n",
            "(-3, 1, 3, -12, 11)\n",
            "(-6, 1, 6, 3, -4)\n",
            "(-2, 7, 1, 3, -9)\n",
            "(6, -5, -4, 9, -6)\n",
            "(-4, 2, 11, -6, -3)\n",
            "(7, 6, -8, 1, -6)\n",
            "(-2, 1, 2, 11, -12)\n",
            "(-12, 2, 9, 7, -6)\n",
            "(-4, 11, -7, 2, -2)\n",
            "(-3, -4, 11, 1, -5)\n",
            "(-3, -6, 11, -5, 3)\n",
            "(-12, 7, -6, 9, 2)\n",
            "\n",
            "Total Sets:  32 \n",
            "\n"
          ]
        }
      ]
    },
    {
      "cell_type": "markdown",
      "metadata": {
        "id": "E3BNV7YLim12"
      },
      "source": [
        "---\n",
        "### **1.5 Complete Program**\n",
        "---"
      ]
    },
    {
      "cell_type": "code",
      "metadata": {
        "colab": {
          "base_uri": "https://localhost:8080/"
        },
        "id": "c6KthRB9im14",
        "outputId": "ac212b70-1b5d-49a9-9e6c-229fba7c49cf"
      },
      "source": [
        "#-------------------------------------------------------------\n",
        "# Step 1: Library inclusion                             \n",
        "#-------------------------------------------------------------\n",
        "import random as r\n",
        "\n",
        "\n",
        "#-------------------------------------------------------------\n",
        "# Step 2: Parameter Setting\n",
        "#-------------------------------------------------------------\n",
        "Set         = set([-12, -3, -6, 7, 2, -2, 6, 3, 9, -7, -5, -8, 1, 11, -9, -4])\n",
        "SetSize     = 5\n",
        "ResultList  = set()    # Store Result List i.e. list of sets whose sum is zero\n",
        "Iterations  = 1000   # Number of Inerations\n",
        "\n",
        "\n",
        "#-------------------------------------------------------------\n",
        "# Step3: Start Program\n",
        "#-------------------------------------------------------------\n",
        "\n",
        "# Loop till number of Iterations\n",
        "for i in range(Iterations):\n",
        "    # Select number of elements from Set\n",
        "    Chromosome = r.sample(Set,SetSize)\n",
        "\n",
        "    # Sum the number of elements in the Chromosome\n",
        "    if sum(Chromosome) == 0:\n",
        "        ResultList.add(tuple(Chromosome))\n",
        "\n",
        "# Print all the sets whose sum is zero\n",
        "for r in ResultList:\n",
        "\tprint (r)\n",
        "\n",
        "# Print total sets\n",
        "print (\"\\nTotal Sets: \", len(ResultList))\n"
      ],
      "execution_count": 12,
      "outputs": [
        {
          "output_type": "stream",
          "name": "stdout",
          "text": [
            "(6, -6, -5, 9, -4)\n",
            "(-5, 3, 11, -2, -7)\n",
            "(-8, 9, -3, -4, 6)\n",
            "(-2, -6, 9, -3, 2)\n",
            "(2, 1, 6, -7, -2)\n",
            "(3, -8, 1, -7, 11)\n",
            "(11, -4, -7, 9, -9)\n",
            "(1, 6, -12, -2, 7)\n",
            "(-4, 7, -9, -3, 9)\n",
            "(-7, -4, 6, 2, 3)\n",
            "(-2, 1, 11, -7, -3)\n",
            "(-9, -3, -6, 11, 7)\n",
            "(1, -5, -6, 3, 7)\n",
            "(11, -12, 6, 3, -8)\n",
            "(-7, 9, 6, -6, -2)\n",
            "(6, 1, -6, 3, -4)\n",
            "(-7, -12, 11, 7, 1)\n",
            "(-6, 6, 7, -9, 2)\n",
            "(9, -5, -2, 6, -8)\n",
            "(-12, 6, -3, 2, 7)\n",
            "(3, -8, 11, -12, 6)\n",
            "(-12, 3, 2, 11, -4)\n",
            "(-8, 11, -7, 1, 3)\n",
            "(6, -7, 11, -12, 2)\n",
            "(-7, 6, -2, 2, 1)\n",
            "(9, -5, -2, -4, 2)\n",
            "(-3, -8, 11, -9, 9)\n",
            "(1, 7, -6, 3, -5)\n",
            "(3, -12, -9, 7, 11)\n",
            "(6, -12, -8, 11, 3)\n",
            "(9, 2, -9, 6, -8)\n",
            "(1, 7, -9, -2, 3)\n",
            "(7, 9, -8, -2, -6)\n",
            "(-2, -3, 6, 11, -12)\n",
            "(-5, 7, -7, 11, -6)\n",
            "\n",
            "Total Sets:  35\n"
          ]
        },
        {
          "output_type": "stream",
          "name": "stderr",
          "text": [
            "<ipython-input-12-863105f7322f>:23: DeprecationWarning: Sampling from a set deprecated\n",
            "since Python 3.9 and will be removed in a subsequent version.\n",
            "  Chromosome = r.sample(Set,SetSize)\n"
          ]
        }
      ]
    },
    {
      "cell_type": "markdown",
      "metadata": {
        "id": "stxrIcZtk4LT"
      },
      "source": [
        "---\n",
        "### **1.6 Complete Program with sorting**\n",
        "---"
      ]
    },
    {
      "cell_type": "code",
      "metadata": {
        "colab": {
          "base_uri": "https://localhost:8080/"
        },
        "outputId": "a0c2e2af-cb34-46b4-baa0-f2ba658c67ab",
        "id": "zzblepy0k4LU"
      },
      "source": [
        "#-------------------------------------------------------------\n",
        "# Step 1: Library inclusion                             \n",
        "#-------------------------------------------------------------\n",
        "import random as r\n",
        "\n",
        "\n",
        "#-------------------------------------------------------------\n",
        "# Step 2: Parameter Setting\n",
        "#-------------------------------------------------------------\n",
        "Set         = set([-12, -3, -6, 7, 2, -2, 6, 3, 9, -7, -5, -8, 1, 11, -9, -4])\n",
        "SetSize     = 5\n",
        "ResultList  = set()    # Store Result List i.e. list of sets whose sum is zero\n",
        "Iterations  = 1000   # Number of Inerations\n",
        "\n",
        "\n",
        "#-------------------------------------------------------------\n",
        "# Step3: Start Program\n",
        "#-------------------------------------------------------------\n",
        "\n",
        "# Loop till number of Iterations\n",
        "for i in range(Iterations):\n",
        "    # Select number of elements from Set\n",
        "    Chromosome = r.sample(Set,SetSize)\n",
        "    Chromosome.sort()\n",
        "\n",
        "    # Sum the number of elements in the Chromosome\n",
        "    if sum(Chromosome) == 0:\n",
        "        ResultList.add(tuple(Chromosome))\n",
        "\n",
        "# Print all the sets whose sum is zero\n",
        "for r in ResultList:\n",
        "\tprint (r)\n",
        "\n",
        "# Print total sets\n",
        "print (\"\\nTotal Sets: \", len(ResultList))\n"
      ],
      "execution_count": 13,
      "outputs": [
        {
          "output_type": "stream",
          "name": "stdout",
          "text": [
            "(-12, -6, -2, 9, 11)\n",
            "(-9, -3, 2, 3, 7)\n",
            "(-9, -8, 2, 6, 9)\n",
            "(-8, -6, -4, 7, 11)\n",
            "(-7, -4, -3, 3, 11)\n",
            "(-8, -4, -3, 6, 9)\n",
            "(-8, -7, -3, 7, 11)\n",
            "(-7, -6, 1, 3, 9)\n",
            "(-12, -3, 1, 3, 11)\n",
            "(-4, -2, 1, 2, 3)\n",
            "(-6, -5, -3, 3, 11)\n",
            "(-6, -5, 2, 3, 6)\n",
            "(-6, -5, -2, 2, 11)\n",
            "(-9, -7, -2, 7, 11)\n",
            "(-5, -3, -2, 1, 9)\n",
            "(-8, -4, 2, 3, 7)\n",
            "(-8, -3, -2, 2, 11)\n",
            "(-9, -5, 1, 6, 7)\n",
            "(-7, -6, -3, 7, 9)\n",
            "(-12, -4, 3, 6, 7)\n",
            "(-7, -5, -4, 7, 9)\n",
            "(-12, -4, -2, 7, 11)\n",
            "(-8, -6, 2, 3, 9)\n",
            "\n",
            "Total Sets:  23\n"
          ]
        },
        {
          "output_type": "stream",
          "name": "stderr",
          "text": [
            "<ipython-input-13-91cb451df7bd>:23: DeprecationWarning: Sampling from a set deprecated\n",
            "since Python 3.9 and will be removed in a subsequent version.\n",
            "  Chromosome = r.sample(Set,SetSize)\n"
          ]
        }
      ]
    },
    {
      "cell_type": "markdown",
      "metadata": {
        "id": "Kaevs6ROim18"
      },
      "source": [
        "---\n",
        "####**2. Problem Statement:**\n",
        "Find all the subsets from a set of numbers whose sum is zero.\n",
        "\n",
        "####**Constraint: Subset size must be 3 to 6 only**\n",
        "Set={-12, -3, -6, 7, 2, -2, 6, 3, 9, -7, -5, -8, 1, 11, -9, -4}\n",
        "\n",
        "---"
      ]
    },
    {
      "cell_type": "code",
      "metadata": {
        "colab": {
          "base_uri": "https://localhost:8080/"
        },
        "id": "XmPJbrOXim19",
        "outputId": "678f8aa8-1f25-49f1-f252-8ba059614b9e"
      },
      "source": [
        "#-------------------------------------------------------------\n",
        "# Step 1: Library inclusion                             \n",
        "#-------------------------------------------------------------\n",
        "import random as r\n",
        "\n",
        "\n",
        "#-------------------------------------------------------------\n",
        "# Step 2: Parameter Setting\n",
        "#-------------------------------------------------------------\n",
        "Set         = set([-12, -3, -6, 7, 2, -2, 6, 3, 9, -7, -5, -8, 1, 11, -9, -4])\n",
        "SetLB       = 3\n",
        "SetUB       = 6\n",
        "ResultList  = set()    # Store Result List i.e. list of sets whose sum is zero\n",
        "Iterations  = 1000   # Number of Inerations\n",
        "\n",
        "\n",
        "#-------------------------------------------------------------\n",
        "# Step3: Start Program\n",
        "#-------------------------------------------------------------\n",
        "\n",
        "# Loop till number of Iterations\n",
        "for i in range(Iterations):\n",
        "    # Select set size randomly\n",
        "    SetSize = r.randint(SetLB,SetUB)\n",
        "\t\n",
        "    # Select number of elements from Set\n",
        "    Chromosome = r.sample(Set,SetSize)\n",
        "    Chromosome.sort()\n",
        "\n",
        "    # Sum the number of elements in the Chromosome\n",
        "    if sum(Chromosome) == 0:\n",
        "        ResultList.add(tuple(Chromosome))\n",
        "\n",
        "# Print all the sets whose sum is zero\n",
        "for r in ResultList:\n",
        "\tprint (r)\n",
        "\n",
        "# Print total sets\n",
        "print (\"\\nTotal Sets: \", len(ResultList))\n"
      ],
      "execution_count": 14,
      "outputs": [
        {
          "output_type": "stream",
          "name": "stdout",
          "text": [
            "(-8, -3, 2, 9)\n",
            "(-3, -2, 2, 3)\n",
            "(-8, -4, 1, 11)\n",
            "(-9, -6, -4, 2, 6, 11)\n",
            "(-9, -7, 2, 3, 11)\n",
            "(-8, -6, 3, 11)\n",
            "(-7, -6, -5, 1, 6, 11)\n",
            "(-12, 3, 9)\n",
            "(-9, -8, 1, 2, 3, 11)\n",
            "(-8, -5, -4, 2, 6, 9)\n",
            "(-8, -6, -2, 7, 9)\n",
            "(-6, -3, -2, 11)\n",
            "(-6, -4, 1, 3, 6)\n",
            "(-7, -5, -4, 2, 3, 11)\n",
            "(-4, 1, 3)\n",
            "(-12, 1, 11)\n",
            "(-7, -2, 1, 2, 6)\n",
            "(-8, -3, 1, 3, 7)\n",
            "(-8, 2, 6)\n",
            "(-8, -5, -2, 6, 9)\n",
            "(-7, -4, 11)\n",
            "(-5, -4, -2, 1, 3, 7)\n",
            "(-9, -2, 11)\n",
            "(-6, -3, 9)\n",
            "(-9, -6, 6, 9)\n",
            "(-9, -4, -3, 1, 6, 9)\n",
            "(-5, -2, 7)\n",
            "(-7, -6, -3, 2, 3, 11)\n",
            "(-8, -5, -4, 1, 7, 9)\n",
            "(-7, -6, -3, 7, 9)\n",
            "(-12, -6, -2, 2, 7, 11)\n",
            "(-8, -7, 6, 9)\n",
            "(-5, -4, -3, 3, 9)\n",
            "(-9, -6, 2, 6, 7)\n",
            "(-7, 1, 6)\n",
            "(-12, -9, 3, 7, 11)\n",
            "(-12, -7, 1, 7, 11)\n",
            "(-7, -6, -5, 7, 11)\n",
            "(-7, -3, 3, 7)\n",
            "(-8, -3, 11)\n",
            "(-9, -3, -2, 3, 11)\n",
            "(-7, -5, -3, -2, 6, 11)\n",
            "(-6, -5, -2, 6, 7)\n",
            "(-7, -5, -3, 1, 3, 11)\n",
            "(-6, -5, -2, 1, 3, 9)\n",
            "\n",
            "Total Sets:  45\n"
          ]
        },
        {
          "output_type": "stream",
          "name": "stderr",
          "text": [
            "<ipython-input-14-8bdee75e019c>:27: DeprecationWarning: Sampling from a set deprecated\n",
            "since Python 3.9 and will be removed in a subsequent version.\n",
            "  Chromosome = r.sample(Set,SetSize)\n"
          ]
        }
      ]
    },
    {
      "cell_type": "markdown",
      "source": [
        "## Mini Project 2"
      ],
      "metadata": {
        "id": "NO2jFTGhNWaL"
      }
    },
    {
      "cell_type": "markdown",
      "metadata": {
        "id": "7nQSRI4Dim1Y"
      },
      "source": [
        "  ---\n",
        "# **ComboFinder**\n",
        "---\n",
        "####**Problem Statement:**\n",
        "Find all the list of products whose sum-of-price is between 290 and 310.\n",
        "\n",
        "ProductList = {p1:10, p2:15, p3:20, p4:25, p5:30, p6:35, p7:50}\n",
        "\n",
        "---"
      ]
    },
    {
      "cell_type": "markdown",
      "metadata": {
        "id": "A30y-VtNim1h"
      },
      "source": [
        "### **1 Library inclusion**"
      ]
    },
    {
      "cell_type": "code",
      "metadata": {
        "id": "cF_mSA9Xim1j"
      },
      "source": [
        "import random as r"
      ],
      "execution_count": 15,
      "outputs": []
    },
    {
      "cell_type": "markdown",
      "metadata": {
        "id": "UjvBYy0Lim1m"
      },
      "source": [
        "### **2 Parameter Setting**\n",
        "Read the productId-price file and convert to dictionary"
      ]
    },
    {
      "cell_type": "code",
      "metadata": {
        "id": "NHB2KMhZim1o"
      },
      "source": [
        "ProductList = {'p1':10, 'p2':15, 'p3':20, 'p4':25, 'p5':30, 'p6':35, 'p7':50,\n",
        "               'p8':40, 'p9':55, 'p10':60, 'p11':65, 'p12':75, 'p13':70,\n",
        "               'p14':45}\n",
        "LB          = 290\n",
        "UB          = 310\n",
        "ResultList  = set()   # Store Result List i.e. list of sets whose sum is between 90 and 210.\n",
        "Iterations  = 1000    # Number of Inerations"
      ],
      "execution_count": 16,
      "outputs": []
    },
    {
      "cell_type": "markdown",
      "metadata": {
        "id": "BEf35pu1Ri90"
      },
      "source": [
        "### **Single Run**\n",
        "\n",
        "\n"
      ]
    },
    {
      "cell_type": "code",
      "metadata": {
        "colab": {
          "base_uri": "https://localhost:8080/"
        },
        "outputId": "d7e0415c-0368-4ccf-8586-ae2c4f8601e6",
        "id": "itCbV2MIRi90"
      },
      "source": [
        "# Select combo size (i.e. number of products in a combo)\n",
        "SetSize = r.randint(2, len(ProductList)-1)\n",
        "print(\"Number of Product: \", SetSize)\n",
        "\n",
        "\n",
        "# Select number of elements from Set\n",
        "ComboList = r.sample(list(ProductList.keys()),SetSize)\n",
        "print(\"Product List     : \", ComboList)\n",
        "\n",
        "\n",
        "# Sum the products in ColboList\n",
        "ComboSum = sum([ ProductList[i] for i in ComboList])\n",
        "print(\"Sum of Product   : \", ComboSum)\n"
      ],
      "execution_count": 17,
      "outputs": [
        {
          "output_type": "stream",
          "name": "stdout",
          "text": [
            "Number of Product:  4\n",
            "Product List     :  ['p1', 'p13', 'p2', 'p10']\n",
            "Sum of Product   :  155\n"
          ]
        }
      ]
    },
    {
      "cell_type": "markdown",
      "metadata": {
        "id": "ts8ALfd7NuIh"
      },
      "source": [
        "### **3 Start Program**\n",
        "\n",
        "\n"
      ]
    },
    {
      "cell_type": "code",
      "metadata": {
        "colab": {
          "base_uri": "https://localhost:8080/"
        },
        "id": "34JF9pZPNuIj",
        "outputId": "092338d0-5932-42bc-ca5b-71758efb74b2"
      },
      "source": [
        "# Loop till number of Iterations\n",
        "ResultList  = set()\n",
        "\n",
        "for i in range(Iterations):\n",
        "\n",
        "    # Select combo size (i.e. number of products in a combo)\n",
        "    SetSize = r.randint(2, len(ProductList)-1)\n",
        "\n",
        "    # Select number of elements from Set\n",
        "    ComboList = r.sample(list(ProductList.keys()),SetSize)\n",
        "\n",
        "    # Sum the products in ColboList\n",
        "    ComboSum = sum([ ProductList[i] for i in ComboList])\n",
        "    \n",
        "    # Check the Sum Between LB and UB\n",
        "    if ComboSum>= LB and ComboSum<= UB:\n",
        "      ResultList.add(tuple(ComboList))\n",
        "\n",
        "print(\"Done\")"
      ],
      "execution_count": 18,
      "outputs": [
        {
          "output_type": "stream",
          "name": "stdout",
          "text": [
            "Done\n"
          ]
        }
      ]
    },
    {
      "cell_type": "markdown",
      "metadata": {
        "id": "PIHtsweuRi92"
      },
      "source": [
        "### **4 Print the comboLists and total count**\n"
      ]
    },
    {
      "cell_type": "code",
      "metadata": {
        "colab": {
          "base_uri": "https://localhost:8080/"
        },
        "scrolled": true,
        "outputId": "d1bfd5af-2572-4e08-ed8d-c57da5e9fdcc",
        "id": "jPuFDkcHRi92"
      },
      "source": [
        "# Print all the sets whose sum is between LB and UB\n",
        "for r in ResultList:\n",
        "\tprint (r)\n",
        "\n",
        "# Print total sets\n",
        "print (\"\\nTotal Sets: \", len(ResultList), \"\\n\")"
      ],
      "execution_count": 19,
      "outputs": [
        {
          "output_type": "stream",
          "name": "stdout",
          "text": [
            "('p8', 'p4', 'p7', 'p13', 'p1', 'p14', 'p10')\n",
            "('p11', 'p10', 'p14', 'p4', 'p7', 'p5', 'p2')\n",
            "('p14', 'p5', 'p8', 'p10', 'p11', 'p9')\n",
            "('p9', 'p1', 'p3', 'p12', 'p13', 'p4', 'p6')\n",
            "('p11', 'p13', 'p10', 'p8', 'p2', 'p7')\n",
            "('p12', 'p2', 'p9', 'p8', 'p6', 'p11', 'p1')\n",
            "('p5', 'p10', 'p11', 'p13', 'p7', 'p3')\n",
            "('p5', 'p14', 'p3', 'p13', 'p12', 'p1', 'p7')\n",
            "('p9', 'p10', 'p11', 'p14', 'p6', 'p5')\n",
            "('p13', 'p10', 'p12', 'p8', 'p9')\n",
            "('p2', 'p3', 'p11', 'p1', 'p8', 'p6', 'p10', 'p9')\n",
            "('p8', 'p12', 'p9', 'p10', 'p14', 'p6')\n",
            "('p10', 'p11', 'p3', 'p13', 'p4', 'p9')\n",
            "('p9', 'p14', 'p10', 'p6', 'p2', 'p12', 'p1')\n",
            "('p14', 'p4', 'p9', 'p10', 'p6', 'p3', 'p7')\n",
            "('p1', 'p4', 'p13', 'p5', 'p8', 'p10', 'p2', 'p14')\n",
            "('p3', 'p1', 'p14', 'p6', 'p13', 'p11', 'p5', 'p4')\n",
            "('p13', 'p6', 'p1', 'p5', 'p14', 'p8', 'p2', 'p11')\n",
            "('p9', 'p1', 'p13', 'p5', 'p3', 'p8', 'p12')\n",
            "('p4', 'p11', 'p10', 'p12', 'p7', 'p6')\n",
            "('p6', 'p14', 'p3', 'p7', 'p10', 'p2', 'p11')\n",
            "('p11', 'p4', 'p8', 'p12', 'p3', 'p13', 'p1')\n",
            "('p6', 'p8', 'p7', 'p14', 'p4', 'p1', 'p13', 'p3')\n",
            "('p11', 'p1', 'p9', 'p10', 'p2', 'p6', 'p7')\n",
            "('p1', 'p9', 'p13', 'p11', 'p10', 'p5')\n",
            "('p1', 'p13', 'p11', 'p12', 'p9', 'p5')\n",
            "('p2', 'p5', 'p7', 'p11', 'p6', 'p14', 'p9')\n",
            "('p12', 'p11', 'p5', 'p14', 'p2', 'p10')\n",
            "('p6', 'p1', 'p7', 'p8', 'p3', 'p10', 'p14', 'p2', 'p5')\n",
            "('p11', 'p14', 'p9', 'p3', 'p8', 'p7', 'p2')\n",
            "('p4', 'p7', 'p10', 'p1', 'p11', 'p2', 'p3', 'p9')\n",
            "('p10', 'p14', 'p8', 'p5', 'p7', 'p1', 'p11')\n",
            "('p1', 'p4', 'p7', 'p11', 'p13', 'p8', 'p6', 'p2')\n",
            "('p14', 'p10', 'p9', 'p6', 'p13', 'p5')\n",
            "('p14', 'p13', 'p11', 'p6', 'p1', 'p2', 'p3', 'p8')\n",
            "('p10', 'p5', 'p8', 'p11', 'p1', 'p13', 'p6')\n",
            "('p1', 'p13', 'p5', 'p12', 'p2', 'p4', 'p11')\n",
            "('p12', 'p14', 'p7', 'p13', 'p2', 'p9')\n",
            "('p1', 'p7', 'p9', 'p11', 'p5', 'p13', 'p4')\n",
            "('p3', 'p10', 'p13', 'p12', 'p14', 'p4')\n",
            "('p4', 'p11', 'p6', 'p10', 'p1', 'p9', 'p8')\n",
            "('p8', 'p13', 'p2', 'p5', 'p12', 'p11')\n",
            "('p10', 'p12', 'p7', 'p14', 'p3', 'p9')\n",
            "('p14', 'p11', 'p9', 'p13', 'p12')\n",
            "('p11', 'p9', 'p3', 'p4', 'p14', 'p6', 'p10')\n",
            "('p13', 'p8', 'p9', 'p7', 'p11', 'p4')\n",
            "('p5', 'p12', 'p13', 'p7', 'p1', 'p2', 'p9')\n",
            "('p9', 'p12', 'p5', 'p10', 'p11', 'p2')\n",
            "('p4', 'p2', 'p3', 'p13', 'p6', 'p9', 'p12')\n",
            "\n",
            "Total Sets:  49 \n",
            "\n"
          ]
        }
      ]
    },
    {
      "cell_type": "markdown",
      "metadata": {
        "id": "sBRwfVVhRi93"
      },
      "source": [
        "---\n",
        "### **5 Complete Program with sorting**\n",
        "---"
      ]
    },
    {
      "cell_type": "code",
      "metadata": {
        "colab": {
          "base_uri": "https://localhost:8080/"
        },
        "outputId": "76ca8e5c-cb2d-4c0f-8c01-40cc47381149",
        "id": "J-vmL-plRi93"
      },
      "source": [
        "#-------------------------------------------------------------\n",
        "# Step 1: Library inclusion                             \n",
        "#-------------------------------------------------------------\n",
        "import random as r\n",
        "\n",
        "\n",
        "#-------------------------------------------------------------\n",
        "# Step 2: Parameter Setting\n",
        "#-------------------------------------------------------------\n",
        "ProductList = {'p1':10, 'p2':15, 'p3':20, 'p4':25, 'p5':30, 'p6':35, 'p7':50,\n",
        "               'p8':40, 'p9':55, 'p10':60, 'p11':65, 'p12':75, 'p13':70,\n",
        "               'p14':45}\n",
        "LB          = 290\n",
        "UB          = 310\n",
        "ResultList  = set()   # Store Result List i.e. list of sets whose sum is between 90 and 210.\n",
        "Iterations  = 1000    # Number of Inerations\n",
        "\n",
        "\n",
        "#-------------------------------------------------------------\n",
        "# Step3: Start Program\n",
        "#-------------------------------------------------------------\n",
        "for i in range(Iterations):\n",
        "\n",
        "    # Select combo size (i.e. number of products in a combo)\n",
        "    SetSize = r.randint(2, len(ProductList)-1)\n",
        "\n",
        "    # Select number of elements from Set\n",
        "    ComboList = r.sample(list(ProductList.keys()),SetSize)\n",
        "    ComboList.sort()\n",
        "\n",
        "    # Sum the products in ColboList\n",
        "    ComboSum = sum([ ProductList[i] for i in ComboList])\n",
        "\n",
        "    # Check the Sum Between LB and UB\n",
        "    if ComboSum>= LB and ComboSum<= UB:\n",
        "      ResultList.add(tuple(ComboList))\n",
        "\n",
        "\n",
        "# Print all the sets whose sum is between LB and UB\n",
        "for r in ResultList:\n",
        "\tprint (r)\n",
        "\n",
        "# Print total sets\n",
        "print (\"\\nTotal Sets: \", len(ResultList), \"\\n\")\n"
      ],
      "execution_count": 20,
      "outputs": [
        {
          "output_type": "stream",
          "name": "stdout",
          "text": [
            "('p10', 'p12', 'p14', 'p3', 'p4', 'p6', 'p8')\n",
            "('p10', 'p13', 'p4', 'p5', 'p7', 'p9')\n",
            "('p1', 'p11', 'p12', 'p3', 'p4', 'p5', 'p6', 'p8')\n",
            "('p10', 'p11', 'p13', 'p14', 'p2', 'p3', 'p5')\n",
            "('p1', 'p12', 'p14', 'p2', 'p3', 'p4', 'p5', 'p6', 'p9')\n",
            "('p1', 'p10', 'p11', 'p12', 'p14', 'p9')\n",
            "('p11', 'p14', 'p2', 'p3', 'p5', 'p6', 'p7', 'p8')\n",
            "('p11', 'p14', 'p2', 'p3', 'p4', 'p5', 'p7', 'p9')\n",
            "('p10', 'p11', 'p12', 'p2', 'p3', 'p9')\n",
            "('p1', 'p10', 'p11', 'p14', 'p5', 'p6', 'p7')\n",
            "('p1', 'p10', 'p13', 'p14', 'p2', 'p3', 'p4', 'p9')\n",
            "('p1', 'p10', 'p2', 'p3', 'p4', 'p6', 'p7', 'p8', 'p9')\n",
            "('p1', 'p11', 'p3', 'p4', 'p5', 'p7', 'p8', 'p9')\n",
            "('p12', 'p13', 'p14', 'p2', 'p3', 'p4', 'p7')\n",
            "('p10', 'p12', 'p14', 'p2', 'p4', 'p5', 'p9')\n",
            "('p10', 'p13', 'p14', 'p4', 'p7', 'p9')\n",
            "('p1', 'p10', 'p11', 'p14', 'p2', 'p3', 'p7', 'p8')\n",
            "('p10', 'p2', 'p3', 'p4', 'p6', 'p7', 'p8', 'p9')\n",
            "('p1', 'p10', 'p14', 'p2', 'p3', 'p4', 'p5', 'p7', 'p9')\n",
            "('p11', 'p13', 'p3', 'p4', 'p5', 'p6', 'p7')\n",
            "('p11', 'p12', 'p13', 'p4', 'p6', 'p8')\n",
            "('p1', 'p12', 'p13', 'p14', 'p4', 'p6', 'p7')\n",
            "('p10', 'p11', 'p12', 'p4', 'p5', 'p6')\n",
            "('p1', 'p11', 'p13', 'p2', 'p4', 'p5', 'p6', 'p8')\n",
            "('p13', 'p2', 'p3', 'p4', 'p5', 'p6', 'p8', 'p9')\n",
            "('p1', 'p10', 'p12', 'p13', 'p2', 'p4', 'p8')\n",
            "('p10', 'p11', 'p14', 'p2', 'p5', 'p8', 'p9')\n",
            "('p10', 'p11', 'p13', 'p14', 'p2', 'p3', 'p6')\n",
            "('p1', 'p12', 'p13', 'p14', 'p2', 'p5', 'p9')\n",
            "('p10', 'p11', 'p12', 'p14', 'p4', 'p5')\n",
            "('p1', 'p10', 'p11', 'p12', 'p2', 'p4', 'p9')\n",
            "('p10', 'p13', 'p5', 'p7', 'p8', 'p9')\n",
            "('p1', 'p10', 'p12', 'p13', 'p14', 'p2', 'p6')\n",
            "('p10', 'p12', 'p13', 'p14', 'p2', 'p3', 'p4')\n",
            "('p1', 'p10', 'p11', 'p13', 'p2', 'p5', 'p9')\n",
            "('p13', 'p2', 'p5', 'p6', 'p7', 'p8', 'p9')\n",
            "('p10', 'p12', 'p4', 'p6', 'p7', 'p9')\n",
            "('p10', 'p11', 'p12', 'p14', 'p2', 'p7')\n",
            "('p1', 'p11', 'p2', 'p3', 'p4', 'p5', 'p7', 'p8', 'p9')\n",
            "('p10', 'p11', 'p3', 'p7', 'p8', 'p9')\n",
            "('p11', 'p13', 'p5', 'p6', 'p7', 'p9')\n",
            "('p11', 'p12', 'p14', 'p2', 'p3', 'p5', 'p7')\n",
            "('p1', 'p13', 'p14', 'p2', 'p3', 'p4', 'p5', 'p6', 'p8')\n",
            "('p1', 'p11', 'p13', 'p2', 'p3', 'p5', 'p6', 'p7')\n",
            "('p10', 'p11', 'p14', 'p3', 'p4', 'p8', 'p9')\n",
            "('p1', 'p11', 'p4', 'p5', 'p6', 'p7', 'p8', 'p9')\n",
            "('p10', 'p13', 'p2', 'p4', 'p6', 'p8', 'p9')\n",
            "('p11', 'p13', 'p14', 'p3', 'p7', 'p8')\n",
            "\n",
            "Total Sets:  48 \n",
            "\n"
          ]
        }
      ]
    },
    {
      "cell_type": "code",
      "source": [],
      "metadata": {
        "id": "04oSUcq2TRix"
      },
      "execution_count": null,
      "outputs": []
    }
  ]
}